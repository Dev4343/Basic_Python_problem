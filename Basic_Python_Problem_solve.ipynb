{
 "cells": [
  {
   "cell_type": "markdown",
   "id": "41a2fba4",
   "metadata": {},
   "source": [
    "### 1. Take values of the length & breadth of a rectangle from user input and check if it is square or not."
   ]
  },
  {
   "cell_type": "code",
   "execution_count": 1,
   "id": "b943be26",
   "metadata": {},
   "outputs": [
    {
     "name": "stdout",
     "output_type": "stream",
     "text": [
      "Enter the length of the rectangle: 22\n",
      "Enter the breadth of the rectangle: 23\n",
      "It is not a square.\n"
     ]
    }
   ],
   "source": [
    "length = float(input(\"Enter the length of the rectangle: \"))\n",
    "breadth = float(input(\"Enter the breadth of the rectangle: \"))\n",
    "\n",
    "if length <= 0 or breadth <= 0:\n",
    "    print(\"Please enter positive values for length and breadth: \")\n",
    "elif length == breadth:\n",
    "    print(\"It is a square.\")\n",
    "else:\n",
    "    print(\"It is not a square.\")"
   ]
  },
  {
   "cell_type": "markdown",
   "id": "e5d88791",
   "metadata": {},
   "source": [
    "## 2. Take three integer values from the user and print the greatest among them."
   ]
  },
  {
   "cell_type": "code",
   "execution_count": 2,
   "id": "1338baeb",
   "metadata": {},
   "outputs": [
    {
     "name": "stdout",
     "output_type": "stream",
     "text": [
      "Enter the firts number : 33\n",
      "Enter the second number : 44\n",
      "Enter the third number : 55\n",
      "The num3 is grathest :  55\n"
     ]
    }
   ],
   "source": [
    "num1 = int(input(\"Enter the firts number : \"))\n",
    "num2 = int(input(\"Enter the second number : \"))\n",
    "num3 = int(input(\"Enter the third number : \"))\n",
    "\n",
    "if num1 > num2 and num1 > num3:\n",
    "    print(\"The num1 is gratheset : \",num1)\n",
    "    \n",
    "elif num2 > num3 and num2 > num1:\n",
    "    print(\"The num2 is Grathest : \",num2)\n",
    "\n",
    "    \n",
    "elif num3 > num1 and num3 > num2:\n",
    "    print(\"The num3 is grathest : \",num3)\n",
    "    \n",
    "else:\n",
    "    print(\"There number are Equal :\",num1,\"=\",num2,\"=\",num3)"
   ]
  },
  {
   "cell_type": "markdown",
   "id": "86b0b526",
   "metadata": {},
   "source": [
    "## 4. A school has the following rules for the grading system:\n"
   ]
  },
  {
   "cell_type": "code",
   "execution_count": 3,
   "id": "6bfe49ac",
   "metadata": {},
   "outputs": [
    {
     "name": "stdout",
     "output_type": "stream",
     "text": [
      "Enter the your marks Please : 2\n",
      "Sorry Bro............. F \n"
     ]
    }
   ],
   "source": [
    "marks = int(input(\"Enter the your marks Please : \"))\n",
    "\n",
    "if marks < 0 or marks > 100:\n",
    "    print(\"Invalid marks\")\n",
    "    \n",
    "elif marks >= 90 and marks <= 100:\n",
    "    print(\"Corgratulation............ A+\")\n",
    "    \n",
    "elif marks >= 80 and marks <= 89:\n",
    "    print(\"A\")\n",
    "    \n",
    "elif marks >= 60 and marks <= 69:\n",
    "    print(\"B\")\n",
    "    \n",
    "elif marks >= 50 and marks <=59:\n",
    "    print(\"C\")\n",
    "    \n",
    "elif marks >= 45 and marks <= 49:\n",
    "    print(\"D\")\n",
    "    \n",
    "elif marks >= 24 and marks <= 44:\n",
    "    print(\"E\")\n",
    "    \n",
    "else:\n",
    "    print(\"Sorry Bro............. F \")"
   ]
  },
  {
   "cell_type": "markdown",
   "id": "44a79c1a",
   "metadata": {},
   "source": [
    "## 5. Print the following pattern using for and while loop.\n"
   ]
  },
  {
   "cell_type": "code",
   "execution_count": 4,
   "id": "94b884c9",
   "metadata": {},
   "outputs": [
    {
     "name": "stdout",
     "output_type": "stream",
     "text": [
      "Enter the your number : 4\n",
      "1 2 3 4 \n",
      "1 2 3 \n",
      "1 2 \n",
      "1 \n"
     ]
    }
   ],
   "source": [
    "num = int(input(\"Enter the your number : \"))\n",
    "row = num\n",
    "while row > 0:\n",
    "        col = 1\n",
    "        while col <= row:\n",
    "            print(col, end=\" \")\n",
    "            col += 1\n",
    "        print()\n",
    "        row -= 1"
   ]
  },
  {
   "cell_type": "markdown",
   "id": "cd73a369",
   "metadata": {},
   "source": [
    "## 6. Display numbers from -100 to -10 using for loop."
   ]
  },
  {
   "cell_type": "code",
   "execution_count": 5,
   "id": "8832f83c",
   "metadata": {},
   "outputs": [
    {
     "name": "stdout",
     "output_type": "stream",
     "text": [
      "-100\n",
      "-99\n",
      "-98\n",
      "-97\n",
      "-96\n",
      "-95\n",
      "-94\n",
      "-93\n",
      "-92\n",
      "-91\n",
      "-90\n",
      "-89\n",
      "-88\n",
      "-87\n",
      "-86\n",
      "-85\n",
      "-84\n",
      "-83\n",
      "-82\n",
      "-81\n",
      "-80\n",
      "-79\n",
      "-78\n",
      "-77\n",
      "-76\n",
      "-75\n",
      "-74\n",
      "-73\n",
      "-72\n",
      "-71\n",
      "-70\n",
      "-69\n",
      "-68\n",
      "-67\n",
      "-66\n",
      "-65\n",
      "-64\n",
      "-63\n",
      "-62\n",
      "-61\n",
      "-60\n",
      "-59\n",
      "-58\n",
      "-57\n",
      "-56\n",
      "-55\n",
      "-54\n",
      "-53\n",
      "-52\n",
      "-51\n",
      "-50\n",
      "-49\n",
      "-48\n",
      "-47\n",
      "-46\n",
      "-45\n",
      "-44\n",
      "-43\n",
      "-42\n",
      "-41\n",
      "-40\n",
      "-39\n",
      "-38\n",
      "-37\n",
      "-36\n",
      "-35\n",
      "-34\n",
      "-33\n",
      "-32\n",
      "-31\n",
      "-30\n",
      "-29\n",
      "-28\n",
      "-27\n",
      "-26\n",
      "-25\n",
      "-24\n",
      "-23\n",
      "-22\n",
      "-21\n",
      "-20\n",
      "-19\n",
      "-18\n",
      "-17\n",
      "-16\n",
      "-15\n",
      "-14\n",
      "-13\n",
      "-12\n",
      "-11\n",
      "-10\n"
     ]
    }
   ],
   "source": [
    "i = -100\n",
    "\n",
    "while i <= -10:\n",
    "    print(i)\n",
    "    i+=1"
   ]
  },
  {
   "cell_type": "markdown",
   "id": "188045c0",
   "metadata": {},
   "source": [
    "## 7. Write a program to sum all prime numbers within a range of 10 to 1000."
   ]
  },
  {
   "cell_type": "code",
   "execution_count": 6,
   "id": "0e1ff45c",
   "metadata": {},
   "outputs": [
    {
     "name": "stdout",
     "output_type": "stream",
     "text": [
      "Enter the your number : 444\n",
      "The number is Not A Prime\n"
     ]
    }
   ],
   "source": [
    "num = int(input(\"Enter the your number : \"))\n",
    "\n",
    "count = 0\n",
    " \n",
    "i = 2\n",
    "while i > num:\n",
    "  i += 1\n",
    "  if num % i == 0:\n",
    "    count += 1\n",
    "    break\n",
    "  if count == 0:\n",
    "    print(\"The number is Prime \")\n",
    "\n",
    "else:\n",
    " print(\"The number is Not A Prime\")"
   ]
  },
  {
   "cell_type": "markdown",
   "id": "be48d9f9",
   "metadata": {},
   "source": [
    "## 8. Find the factorial of an n! (Hint, n=7: 7*6*5*4*3*2*1)."
   ]
  },
  {
   "cell_type": "code",
   "execution_count": 7,
   "id": "31743a3a",
   "metadata": {},
   "outputs": [
    {
     "name": "stdout",
     "output_type": "stream",
     "text": [
      "Enter the your number : 7\n",
      "The factorial is :  5040\n"
     ]
    }
   ],
   "source": [
    "num = int(input(\"Enter the your number : \"))\n",
    "\n",
    "fact = 1\n",
    "i = 1\n",
    "while i <= num:\n",
    "  fact *= i\n",
    "  i += 1\n",
    "\n",
    "print(\"The factorial is : \",fact)"
   ]
  },
  {
   "cell_type": "markdown",
   "id": "58d9f462",
   "metadata": {},
   "source": [
    "## 9. Reverse a given integer number 27956240710."
   ]
  },
  {
   "cell_type": "code",
   "execution_count": 8,
   "id": "dd5f39f2",
   "metadata": {},
   "outputs": [
    {
     "name": "stdout",
     "output_type": "stream",
     "text": [
      "1704265972\n"
     ]
    }
   ],
   "source": [
    "num = 27956240710\n",
    "\n",
    "rev = 0\n",
    "\n",
    "while num > 0:\n",
    "    rev = (rev*10)+num%10\n",
    "    num=num//10\n",
    "    \n",
    "print(rev)    "
   ]
  },
  {
   "cell_type": "markdown",
   "id": "d413474a",
   "metadata": {},
   "source": [
    "## 11. Display the Fibonacci series of 15 elements using the for and while loop."
   ]
  },
  {
   "cell_type": "code",
   "execution_count": 9,
   "id": "44bc2554",
   "metadata": {},
   "outputs": [
    {
     "name": "stdout",
     "output_type": "stream",
     "text": [
      "Enter the you number : 15\n",
      "0    1    1    2    3    5    8    13    21    34    55    89    144    233    377    "
     ]
    }
   ],
   "source": [
    "num = int(input(\"Enter the you number : \"))\n",
    "\n",
    "first = 0\n",
    "second = 1\n",
    "count = 0\n",
    "\n",
    "i = 2\n",
    "while count < num:\n",
    "  if count <= 1:\n",
    "     fibo = count\n",
    "  else:\n",
    "     fibo = first + second\n",
    "     first = second\n",
    "     second = fibo\n",
    "  count+=1\n",
    "  print(fibo, end=\"    \")"
   ]
  },
  {
   "cell_type": "markdown",
   "id": "646d8b7a",
   "metadata": {},
   "source": [
    "# Python inbuilt Data Structure:"
   ]
  },
  {
   "cell_type": "markdown",
   "id": "cd1335fb",
   "metadata": {},
   "source": [
    "## 12. Remove 2 and add 3 to the list and replace True with False."
   ]
  },
  {
   "cell_type": "code",
   "execution_count": 10,
   "id": "3bf8a793",
   "metadata": {},
   "outputs": [
    {
     "name": "stdout",
     "output_type": "stream",
     "text": [
      "[1, 3, 5, '3', 3, False]\n"
     ]
    }
   ],
   "source": [
    "value = [1, 3, 5, 2, 3, True]\n",
    "value[3] = \"3\"\n",
    "value[5] = False\n",
    "\n",
    "print(value)"
   ]
  },
  {
   "cell_type": "markdown",
   "id": "32e7d9de",
   "metadata": {},
   "source": [
    "## 13. Find the intersection (common) of two sets."
   ]
  },
  {
   "cell_type": "code",
   "execution_count": 11,
   "id": "449846f8",
   "metadata": {},
   "outputs": [
    {
     "name": "stdout",
     "output_type": "stream",
     "text": [
      "{True}\n"
     ]
    }
   ],
   "source": [
    "S1 = {1, 4, 6, 8}\n",
    "S2 = {True, 1, 2, 10}\n",
    "\n",
    "intersection_set = S1.intersection(S2)\n",
    "print(intersection_set)\n"
   ]
  },
  {
   "cell_type": "markdown",
   "id": "4b23c3bb",
   "metadata": {},
   "source": [
    "## 15. Rename the key of a dictionary."
   ]
  },
  {
   "cell_type": "code",
   "execution_count": 12,
   "id": "dbafcde4",
   "metadata": {},
   "outputs": [
    {
     "name": "stdout",
     "output_type": "stream",
     "text": [
      "{'name': 'Shakil', 'age': 27, 'city': 'Berlin', 'region': 'Germany'}\n"
     ]
    }
   ],
   "source": [
    "Dict = { \n",
    "    \"name\": \"Shakil\",\n",
    "    \"age\":27, \n",
    "    \"city\": \"Berlin\", \n",
    "    \"country\": \"Germany\"\n",
    "    }\n",
    "\n",
    "Dict['region'] = Dict['country']\n",
    "del Dict['country']\n",
    "\n",
    "print(Dict)"
   ]
  },
  {
   "cell_type": "markdown",
   "id": "bc3f8132",
   "metadata": {},
   "source": [
    "## 16. Creating a data frame using the list."
   ]
  },
  {
   "cell_type": "code",
   "execution_count": 13,
   "id": "78b34a3a",
   "metadata": {},
   "outputs": [
    {
     "name": "stdout",
     "output_type": "stream",
     "text": [
      "   number\n",
      "0      10\n",
      "1     100\n",
      "2     300\n"
     ]
    }
   ],
   "source": [
    "import pandas as pd\n",
    "\n",
    "num = [10, 100, 300]\n",
    "df = pd.DataFrame(num, columns=['number'])\n",
    "\n",
    "print(df)"
   ]
  },
  {
   "cell_type": "markdown",
   "id": "5cd146d8",
   "metadata": {},
   "source": [
    "## 17. Change the value of a key in a given dictionary."
   ]
  },
  {
   "cell_type": "code",
   "execution_count": 14,
   "id": "e8da473e",
   "metadata": {},
   "outputs": [
    {
     "name": "stdout",
     "output_type": "stream",
     "text": [
      "{'name': 'Shakil', 'age': 28, 'city': 'Berlin', 'country': 'Germany'}\n"
     ]
    }
   ],
   "source": [
    "Dict = {\n",
    "    \"name\": \"Shakil\", \n",
    "    \"age\": 27, \n",
    "    \"city\": \"Berlin\", \n",
    "    \"country\": \"Germany\"}\n",
    "\n",
    "Dict['age'] = 28\n",
    "\n",
    "print(Dict)\n"
   ]
  },
  {
   "cell_type": "code",
   "execution_count": null,
   "id": "24518fe5",
   "metadata": {},
   "outputs": [],
   "source": []
  }
 ],
 "metadata": {
  "kernelspec": {
   "display_name": "Python 3 (ipykernel)",
   "language": "python",
   "name": "python3"
  },
  "language_info": {
   "codemirror_mode": {
    "name": "ipython",
    "version": 3
   },
   "file_extension": ".py",
   "mimetype": "text/x-python",
   "name": "python",
   "nbconvert_exporter": "python",
   "pygments_lexer": "ipython3",
   "version": "3.10.9"
  }
 },
 "nbformat": 4,
 "nbformat_minor": 5
}
